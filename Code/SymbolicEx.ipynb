{
 "cells": [
  {
   "cell_type": "markdown",
   "metadata": {},
   "source": [
    "# Symbolic computation in Python with SymPy"
   ]
  },
  {
   "cell_type": "code",
   "execution_count": 4,
   "metadata": {
    "collapsed": false,
    "scrolled": true
   },
   "outputs": [
    {
     "data": {
      "image/png": "[encoded data removed]",
      "text/latex": [
       "$$4 \\operatorname{atan}{\\left (e^{- t \\sinh{\\left (\\theta \\right )} + x \\cosh{\\left (\\theta \\right )}} \\right )}$$"
      ],
      "text/plain": [
       "      ⎛ -t⋅sinh(θ) + x⋅cosh(θ)⎞\n",
       "4⋅atan⎝ℯ                      ⎠"
      ]
     },
     "execution_count": 4,
     "metadata": {},
     "output_type": "execute_result"
    }
   ],
   "source": [
    "from sympy import *\n",
    "init_printing(use_latex=True)\n",
    "\n",
    "x, t, theta = symbols('x t theta', real=True)\n",
    "z = cosh(theta)*x - sinh(theta)*t\n",
    "u = 4*atan(exp(z))\n",
    "u"
   ]
  },
  {
   "cell_type": "markdown",
   "metadata": {},
   "source": [
    "### Check that $u$ solves the sine-Gordon equation $u_{tt} - u_{xx} + \\sin(u) = 0$"
   ]
  },
  {
   "cell_type": "code",
   "execution_count": 2,
   "metadata": {
    "collapsed": false,
    "scrolled": true
   },
   "outputs": [
    {
     "data": {
      "image/png": "[encoded data removed]",
      "text/latex": [
       "$$0$$"
      ],
      "text/plain": [
       "0"
      ]
     },
     "execution_count": 2,
     "metadata": {},
     "output_type": "execute_result"
    }
   ],
   "source": [
    "sg = diff(u,t,2) - diff(u,x,2) + sin(u)\n",
    "simplify(sg)"
   ]
  },
  {
   "cell_type": "markdown",
   "metadata": {},
   "source": [
    "### The soliton solutions interpolate between multiples of $2\\pi$"
   ]
  },
  {
   "cell_type": "code",
   "execution_count": 5,
   "metadata": {
    "collapsed": false
   },
   "outputs": [
    {
     "data": {
      "image/png": "[encoded data removed]",
      "text/latex": [
       "$$0$$"
      ],
      "text/plain": [
       "0"
      ]
     },
     "execution_count": 5,
     "metadata": {},
     "output_type": "execute_result"
    }
   ],
   "source": [
    "limit(u,x,-oo)"
   ]
  },
  {
   "cell_type": "code",
   "execution_count": 4,
   "metadata": {
    "collapsed": false
   },
   "outputs": [
    {
     "data": {
      "image/png": "[encoded data removed]",
      "text/latex": [
       "$$2 \\pi$$"
      ],
      "text/plain": [
       "2⋅π"
      ]
     },
     "execution_count": 4,
     "metadata": {},
     "output_type": "execute_result"
    }
   ],
   "source": [
    "limit(u,x,oo)"
   ]
  },
  {
   "cell_type": "markdown",
   "metadata": {},
   "source": [
    "### Compute the energy of a soliton $E=\\frac{1}{2}u_t^2 + \\frac{1}{2}u_x^2 + 1 - \\cos(u)$"
   ]
  },
  {
   "cell_type": "code",
   "execution_count": 5,
   "metadata": {
    "collapsed": false
   },
   "outputs": [
    {
     "data": {
      "image/png": "[encoded data removed]",
      "text/latex": [
       "$$\\frac{16 e^{2 t \\sinh{\\left (\\theta \\right )} + 2 x \\cosh{\\left (\\theta \\right )}} \\cosh^{2}{\\left (\\theta \\right )}}{\\left(e^{2 t \\sinh{\\left (\\theta \\right )}} + e^{2 x \\cosh{\\left (\\theta \\right )}}\\right)^{2}}$$"
      ],
      "text/plain": [
       "    2⋅t⋅sinh(θ) + 2⋅x⋅cosh(θ)     2   \n",
       "16⋅ℯ                         ⋅cosh (θ)\n",
       "──────────────────────────────────────\n",
       "                                 2    \n",
       "    ⎛ 2⋅t⋅sinh(θ)    2⋅x⋅cosh(θ)⎞     \n",
       "    ⎝ℯ            + ℯ           ⎠     "
      ]
     },
     "execution_count": 5,
     "metadata": {},
     "output_type": "execute_result"
    }
   ],
   "source": [
    "ux = simplify(diff(u,x))\n",
    "ut = simplify(diff(u,t))\n",
    "dE = simplify((ut**2+ux**2)/2 + 1 - cos(u))\n",
    "dE"
   ]
  },
  {
   "cell_type": "code",
   "execution_count": 6,
   "metadata": {
    "collapsed": false
   },
   "outputs": [
    {
     "data": {
      "image/png": "[encoded data removed]",
      "text/latex": [
       "$$8 \\cosh{\\left (\\theta \\right )}$$"
      ],
      "text/plain": [
       "8⋅cosh(θ)"
      ]
     },
     "execution_count": 6,
     "metadata": {},
     "output_type": "execute_result"
    }
   ],
   "source": [
    "simplify(integrate(dE, (x,-oo, oo)))"
   ]
  },
  {
   "cell_type": "markdown",
   "metadata": {},
   "source": [
    "### Plot the derivative $u_x(x,t)$"
   ]
  },
  {
   "cell_type": "code",
   "execution_count": 7,
   "metadata": {
    "collapsed": false
   },
   "outputs": [
    {
     "data": {
      "image/png": "[encoded data removed]",
      "text/latex": [
       "$$\\frac{4 e^{- t \\sinh{\\left (\\theta \\right )} + x \\cosh{\\left (\\theta \\right )}} \\cosh{\\left (\\theta \\right )}}{e^{- 2 t \\sinh{\\left (\\theta \\right )} + 2 x \\cosh{\\left (\\theta \\right )}} + 1}$$"
      ],
      "text/plain": [
       "   -t⋅sinh(θ) + x⋅cosh(θ)        \n",
       "4⋅ℯ                      ⋅cosh(θ)\n",
       "─────────────────────────────────\n",
       "  -2⋅t⋅sinh(θ) + 2⋅x⋅cosh(θ)     \n",
       " ℯ                           + 1 "
      ]
     },
     "execution_count": 7,
     "metadata": {},
     "output_type": "execute_result"
    }
   ],
   "source": [
    "ux = simplify(diff(u,x))\n",
    "ux"
   ]
  },
  {
   "cell_type": "code",
   "execution_count": 8,
   "metadata": {
    "collapsed": false
   },
   "outputs": [],
   "source": [
    "uxFunc = lambdify((x,t,theta), ux, 'numpy')     # Turn a symbolic function into a Python function"
   ]
  },
  {
   "cell_type": "code",
   "execution_count": 9,
   "metadata": {
    "collapsed": false
   },
   "outputs": [
    {
     "data": {
      "image/png": "[encoded data removed]",
      "text/plain": [
       "<matplotlib.figure.Figure at 0x10d2a6dd8>"
      ]
     },
     "metadata": {},
     "output_type": "display_data"
    }
   ],
   "source": [
    "import numpy as np\n",
    "import matplotlib.pyplot as plt\n",
    "\n",
    "xArray  = np.linspace(-10,10,1001)\n",
    "tVal  = 3\n",
    "thVal = 0.2\n",
    "\n",
    "plt.plot(xArray,uxFunc(xArray,tVal,thVal))\n",
    "plt.xlabel('$x$', size=16)\n",
    "plt.ylabel('$u_x(x)$', size=16)\n",
    "\n",
    "axis = plt.gca()\n",
    "plt.text(0.05, 0.9, '$t= %.2f$' % tVal, transform=axis.transAxes, size=16)\n",
    "\n",
    "plt.show()"
   ]
  },
  {
   "cell_type": "markdown",
   "metadata": {
    "collapsed": true
   },
   "source": [
    "### Sympy is...\n",
    "* Lightweight (only requires Python)\n",
    "* Very extendable through Python\n",
    "* Free\n",
    "* Probably not replacing Mathematica or Maple quite yet?"
   ]
  },
  {
   "cell_type": "code",
   "execution_count": null,
   "metadata": {
    "collapsed": true
   },
   "outputs": [],
   "source": []
  }
 ],
 "metadata": {
  "kernelspec": {
   "display_name": "Python 3",
   "language": "python",
   "name": "python3"
  },
  "language_info": {
   "codemirror_mode": {
    "name": "ipython",
    "version": 3
   },
   "file_extension": ".py",
   "mimetype": "text/x-python",
   "name": "python",
   "nbconvert_exporter": "python",
   "pygments_lexer": "ipython3",
   "version": "3.5.0"
  }
 },
 "nbformat": 4,
 "nbformat_minor": 2
}
